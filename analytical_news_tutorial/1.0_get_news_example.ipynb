{
 "cells": [
  {
   "cell_type": "code",
   "execution_count": 1,
   "outputs": [],
   "source": [
    "import os\n",
    "import requests\n",
    "import json\n",
    "\n",
    "X_RAPIDAPI_KEY = os.environ.get(\"X_RAPIDAPI_KEY\")"
   ],
   "metadata": {
    "collapsed": false
   }
  },
  {
   "cell_type": "markdown",
   "source": [
    "# Get last 5 news"
   ],
   "metadata": {
    "collapsed": false
   }
  },
  {
   "cell_type": "code",
   "execution_count": 2,
   "outputs": [
    {
     "name": "stdout",
     "output_type": "stream",
     "text": [
      "200\n"
     ]
    }
   ],
   "source": [
    "url = \"https://cryptoinfo.p.rapidapi.com/api/private/latest_news/news\"\n",
    "\n",
    "headers = {\n",
    "\t\"Content-Type\": \"application/json\",\n",
    "\t\"X-RapidAPI-Key\": X_RAPIDAPI_KEY,\n",
    "\t\"X-RapidAPI-Host\": \"cryptoinfo.p.rapidapi.com\"\n",
    "}\n",
    "\n",
    "response = requests.request(\"GET\", url, headers=headers)\n",
    "print(response.status_code)"
   ],
   "metadata": {
    "collapsed": false
   }
  },
  {
   "cell_type": "code",
   "execution_count": 3,
   "outputs": [],
   "source": [
    "res_5_news = json.loads(response.text)"
   ],
   "metadata": {
    "collapsed": false
   }
  },
  {
   "cell_type": "code",
   "execution_count": 4,
   "outputs": [
    {
     "data": {
      "text/plain": "{'unique': False,\n 'topic': 'news',\n 'post_time': '2023-01-27 12:35:44+00:00',\n 'hash': -5228647673116613827}"
     },
     "execution_count": 4,
     "metadata": {},
     "output_type": "execute_result"
    }
   ],
   "source": [
    "res_5_news[0][\"meta\"]"
   ],
   "metadata": {
    "collapsed": false
   }
  },
  {
   "cell_type": "code",
   "execution_count": 38,
   "outputs": [
    {
     "name": "stdout",
     "output_type": "stream",
     "text": [
      "common information and meta\n",
      "len of data: 5\n",
      "single news contain the next fields: dict_keys(['meta', 'data'])\n",
      "meta information in news: {'unique': False, 'topic': 'news', 'post_time': '2023-01-27 12:35:44+00:00', 'hash': -5228647673116613827}\n",
      "unique indicates whether the news is unique relative to other news\n",
      "post_time -- is the time when this news was published in our API\n",
      "hash -- you can compare different news on hash. Very useful while using API endpoint instead of websocket to validate -- is obtained data new in your application\n",
      "time of posting in our API: 2023-01-27 12:35:44+00:00 | 2023-01-27 12:35:34+00:00 | 2023-01-27 12:35:13+00:00 | 2023-01-27 12:34:52+00:00 | 2023-01-27 12:32:46+00:00\n",
      "============\n",
      "describing data field\n",
      "data field contains supported languages: dict_keys(['en', 'ru'])\n",
      "there are three fields that differs on languages: header, subheader, summary (generated summarization of the text)\n",
      "en fields:\n",
      "header: Bitcoin Miner Argo Blockchain Faces Class Action Suit Over U.S. Share Sale\n",
      "subheader: Argo failed to disclose that it suffered from significant capital constraints, electricity and network difficulties, the suit says.\n",
      "summary: Argo failed to disclose that it suffered from significant capital constraints, electricity and network difficulties, the suit says. The mining firm offered 7.5 million ADS, each representing 10 shares of common stock, on the Nasdaq Global Market in September, 2021.\n",
      "ru fields:\n",
      "header: Майнеру Bitcoin Argo Blockchain Грозит Коллективный Иск По Поводу Продажи Акций В Сша\n",
      "subheader: \"Арго\" не раскрыла, что она страдала от значительных ограничений капитала, проблем с электричеством и сетями\", - говорится в иске.\n",
      "summary: \"Арго\" не раскрыла, что она страдала от значительных ограничений капитала, проблем с электричеством и сетями\", - говорится в иске. Фирма по майнингу предложила 7,5 миллиона объявлений, каждое из которых представляло 10 обыкновенных акций, на Глобальном рынке Nasdaq в сентябре 2021 года.\n",
      "============\n",
      "It is reasonable to ask - why send so much duplicate data in ru and en fields?\n",
      "Our API is developing, and we do not exclude the possibility of adapting the remaining fields. But at the moment everything is as it is. Therefore, we strongly recommend using the appropriate key field for working with Russian/English languages.\n",
      "Other fields we will consider only for en language. There are next keys:\n",
      "dict_keys(['header', 'subheader', 'content', 'link', 'date', 'domain', 'article_label', 'source_lang', 'is_breaking_news', 'hashtags_list', 'fields_tickers', 'summary', 'sentiment', 'article_type', 'blockwords', 'similarity'])\n",
      "content -- is the body of the article. header + subheader + content form a full article\n",
      "url (link): https://www.coindesk.com/business/2023/01/27/bitcoin-miner-argo-blockchain-faces-class-action-suit-over-us-share-sale/?utm_medium=referral&utm_source=rss&utm_campaign=headlines\n",
      "date -- date of publish received from article html: 2023-01-27 12:27:52+00:00; It differs from meta-post time for the next reasons: 1) there are a lot of bugs on the article resources, that posts a news with incorrect datetime; 2) there are processing time of our service. Our common delay is about 30 seconds from the time, when news was really published. Also, it can be a problem with availability of the resources to our scrappers, and we often upgrade it. So, this is bad idea to see on this time while you do a processing. Sufficiently better to use meta-post_time\n",
      "domain -- is the domain of news resource: www.coindesk.com\n",
      "article label -- {'label': 'news', 'score': 1.0}. key label can take the following values: news, overview, statistics, undefined (cannot be exactly assigned to one of the classes); score -- model prediction score for this class\n",
      "source lang -- source language of the article: en\n",
      "is_breaking_news -- check, is this news breaking, or it`s date of published on the resource far away from current date: True\n",
      "hashtags_list -- is the list of hashtags. On the EN crypto resources first hashtag will be #Crypto. On all russian resources first hashtag will be #Russian. And other hashtags selected from a well-defined available hashtags table. Hahtags: ['#Crypto', '#Blockchain', '#Network', '#Sale']\n",
      "fields_tickers -- is the market fields and tickers that are in the news. Fields can be: crypto, resources, fx, american, russian, token_sale. Tickers are the stocks or cryptocurrencies from the given area, which are discussed in the news. fields_tickers: {'crypto': ['BTC', 'REQ']}\n",
      "sentiment -- is the sentiment of the news. Can be positive, negative or neutral: neutral\n",
      "article_type -- type of the news. Can be business, sci_tech, world, sports. There are really low part of sports news in our data, but rarely it comes. article_types: business\n",
      "blockwords -- these are mainly political words from a certain prohibited list that are contained in the news, and on the basis of which it is possible to decide (appropriate) whether the news is suitable for work as with financial news. blockwords: {'appropriate': True, 'blockwords': []}\n",
      "similarity -- is the semantic search result over last N hours of received news. This field contain of list of most similar news. By default, in our system you receive only one similar news. May be later we will add more similar news in this field. It can be useful for building news graph dependencies. There are the next fields: is news unique: False and what`s the score: 0.8828207146344922; field `record` represents data-EN field in similar article (without similarity field)\n"
     ]
    }
   ],
   "source": [
    "last_news = res_5_news[0]\n",
    "print(\"common information and meta\")\n",
    "print(\"len of data:\", len(res_5_news))\n",
    "print(\"single news contain the next fields:\", last_news.keys())\n",
    "print(\"meta information in news:\", last_news[\"meta\"])\n",
    "print(\"unique indicates whether the news is unique relative to other news\")\n",
    "print(\"post_time -- is the time when this news was published in our API\")\n",
    "print(\"hash -- you can compare different news on hash. Very useful while using API endpoint instead of websocket to validate -- is obtained data new in your application\")\n",
    "print(\"time of posting in our API:\", \" | \".join([el[\"meta\"][\"post_time\"] for el in res_5_news]))\n",
    "print(\"============\")\n",
    "print(\"describing data field\")\n",
    "print(\"data field contains supported languages:\", last_news[\"data\"].keys())\n",
    "print(\"there are three fields that differs on languages: header, subheader, summary (generated summarization of the text)\")\n",
    "print(f'en fields:\\nheader: {last_news[\"data\"][\"en\"][\"header\"]}\\nsubheader: {last_news[\"data\"][\"en\"][\"subheader\"]}\\nsummary: {last_news[\"data\"][\"en\"][\"summary\"]}')\n",
    "print(f'ru fields:\\nheader: {last_news[\"data\"][\"ru\"][\"header\"]}\\nsubheader: {last_news[\"data\"][\"ru\"][\"subheader\"]}\\nsummary: {last_news[\"data\"][\"ru\"][\"summary\"]}')\n",
    "print(\"============\")\n",
    "print(\"It is reasonable to ask - why send so much duplicate data in ru and en fields?\")\n",
    "print(\"Our API is developing, and we do not exclude the possibility of adapting the remaining fields. But at the moment everything is as it is. Therefore, we strongly recommend using the appropriate key field for working with Russian/English languages.\")\n",
    "print(\"Other fields we will consider only for en language. There are next keys:\")\n",
    "print(last_news[\"data\"][\"en\"].keys())\n",
    "print(\"content -- is the body of the article. header + subheader + content form a full article\")\n",
    "print(\"url (link):\", last_news[\"data\"][\"en\"][\"link\"])\n",
    "print(f'date -- date of publish received from article html: {last_news[\"data\"][\"en\"][\"date\"]}; It differs from meta-post time for the next reasons: 1) there are a lot of bugs on the article resources, that posts a news with incorrect datetime; 2) there are processing time of our service. Our common delay is about 30 seconds from the time, when news was really published. Also, it can be a problem with availability of the resources to our scrappers, and we often upgrade it. So, this is bad idea to see on this time while you do a processing. Sufficiently better to use meta-post_time')\n",
    "print(\"domain -- is the domain of news resource:\", last_news[\"data\"][\"en\"][\"domain\"])\n",
    "print(f'article label -- {last_news[\"data\"][\"en\"][\"article_label\"]}. key label can take the following values: news, overview, statistics, undefined (cannot be exactly assigned to one of the classes); score -- model prediction score for this class')\n",
    "print(f'source lang -- source language of the article: {last_news[\"data\"][\"en\"][\"source_lang\"]}')\n",
    "print(f'is_breaking_news -- check, is this news breaking, or it`s date of published on the resource far away from current date: {last_news[\"data\"][\"en\"][\"is_breaking_news\"]}')\n",
    "print(f'hashtags_list -- is the list of hashtags. On the EN crypto resources first hashtag will be #Crypto. On all russian resources first hashtag will be #Russian. And other hashtags selected from a well-defined available hashtags table. Hahtags: {last_news[\"data\"][\"en\"][\"hashtags_list\"]}')\n",
    "print(f'fields_tickers -- is the market fields and tickers that are in the news. Fields can be: crypto, resources, fx, american, russian, token_sale. Tickers are the stocks or cryptocurrencies from the given area, which are discussed in the news. fields_tickers: {last_news[\"data\"][\"en\"][\"fields_tickers\"]}')\n",
    "print(f'sentiment -- is the sentiment of the news. Can be positive, negative or neutral: {last_news[\"data\"][\"en\"][\"sentiment\"]}')\n",
    "print(f'article_type -- type of the news. Can be business, sci_tech, world, sports. There are really low part of sports news in our data, but rarely it comes. article_types: {last_news[\"data\"][\"en\"][\"article_type\"]}')\n",
    "print(f'blockwords -- these are mainly political words from a certain prohibited list that are contained in the news, and on the basis of which it is possible to decide (appropriate) whether the news is suitable for work as with financial news. blockwords: {last_news[\"data\"][\"en\"][\"blockwords\"]}')\n",
    "print(f'similarity -- is the semantic search result over last N hours of received news. This field contain of list of most similar news. By default, in our system you receive only one similar news. May be later we will add more similar news in this field. It can be useful for building news graph dependencies. There are the next fields: is news unique: {last_news[\"data\"][\"en\"][\"similarity\"][0][\"unique\"]} and what`s the score: {last_news[\"data\"][\"en\"][\"similarity\"][0][\"score\"]}; field `record` represents data-EN field in similar article (without similarity field)')\n"
   ],
   "metadata": {
    "collapsed": false
   }
  },
  {
   "cell_type": "markdown",
   "source": [
    "# Get news between time"
   ],
   "metadata": {
    "collapsed": false
   }
  },
  {
   "cell_type": "code",
   "execution_count": 8,
   "outputs": [
    {
     "name": "stdout",
     "output_type": "stream",
     "text": [
      "200\n"
     ]
    }
   ],
   "source": [
    "import requests\n",
    "\n",
    "url = \"https://cryptoinfo.p.rapidapi.com/api/private/news_between_time/rapid_api/news\"\n",
    "\n",
    "querystring = {\n",
    "\t\"time_start\":\"2023-01-20 17:34:58+00:00\",\n",
    "\t\"time_finish\":\"2023-01-22 19:34:58+00:00\"\n",
    "}\n",
    "\n",
    "headers = {\n",
    "\t\"Content-Type\": \"application/json\",\n",
    "\t\"X-RapidAPI-Key\": X_RAPIDAPI_KEY,\n",
    "\t\"X-RapidAPI-Host\": \"cryptoinfo.p.rapidapi.com\"\n",
    "}\n",
    "\n",
    "response = requests.request(\"GET\", url, headers=headers, params=querystring)\n",
    "\n",
    "print(response.status_code)"
   ],
   "metadata": {
    "collapsed": false
   }
  },
  {
   "cell_type": "code",
   "execution_count": null,
   "outputs": [],
   "source": [],
   "metadata": {
    "collapsed": false
   }
  },
  {
   "cell_type": "code",
   "execution_count": null,
   "outputs": [],
   "source": [],
   "metadata": {
    "collapsed": false
   }
  },
  {
   "cell_type": "code",
   "execution_count": null,
   "outputs": [],
   "source": [],
   "metadata": {
    "collapsed": false
   }
  }
 ],
 "metadata": {
  "kernelspec": {
   "display_name": "Python 3",
   "language": "python",
   "name": "python3"
  },
  "language_info": {
   "codemirror_mode": {
    "name": "ipython",
    "version": 2
   },
   "file_extension": ".py",
   "mimetype": "text/x-python",
   "name": "python",
   "nbconvert_exporter": "python",
   "pygments_lexer": "ipython2",
   "version": "2.7.6"
  }
 },
 "nbformat": 4,
 "nbformat_minor": 0
}
