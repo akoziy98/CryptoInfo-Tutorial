{
 "cells": [
  {
   "cell_type": "code",
   "execution_count": 1,
   "outputs": [],
   "source": [
    "import os\n",
    "import requests\n",
    "import json\n",
    "\n",
    "X_RAPIDAPI_KEY = os.environ.get(\"X_RAPIDAPI_KEY\")"
   ],
   "metadata": {
    "collapsed": false
   }
  },
  {
   "cell_type": "markdown",
   "source": [
    "# Get last 5 news"
   ],
   "metadata": {
    "collapsed": false
   }
  },
  {
   "cell_type": "code",
   "execution_count": 4,
   "outputs": [
    {
     "name": "stdout",
     "output_type": "stream",
     "text": [
      "200\n"
     ]
    }
   ],
   "source": [
    "url = \"https://cryptoinfo.p.rapidapi.com/api/private/latest_news/news\"\n",
    "\n",
    "headers = {\n",
    "\t\"Content-Type\": \"application/json\",\n",
    "\t\"X-RapidAPI-Key\": X_RAPIDAPI_KEY,\n",
    "\t\"X-RapidAPI-Host\": \"cryptoinfo.p.rapidapi.com\"\n",
    "}\n",
    "\n",
    "response = requests.request(\"GET\", url, headers=headers)\n",
    "print(response.status_code)"
   ],
   "metadata": {
    "collapsed": false
   }
  },
  {
   "cell_type": "code",
   "execution_count": 5,
   "outputs": [],
   "source": [
    "res_5_news = json.loads(response.text)"
   ],
   "metadata": {
    "collapsed": false
   }
  },
  {
   "cell_type": "code",
   "execution_count": 6,
   "outputs": [
    {
     "data": {
      "text/plain": "{'unique': True,\n 'topic': 'news',\n 'post_time': '2023-01-27 14:01:47+00:00',\n 'hash': 8126247893247634545}"
     },
     "execution_count": 6,
     "metadata": {},
     "output_type": "execute_result"
    }
   ],
   "source": [
    "res_5_news[0][\"meta\"]"
   ],
   "metadata": {
    "collapsed": false
   }
  },
  {
   "cell_type": "code",
   "execution_count": 7,
   "outputs": [
    {
     "name": "stdout",
     "output_type": "stream",
     "text": [
      "common information and meta\n",
      "len of data: 5\n",
      "single news contain the next fields: dict_keys(['meta', 'data'])\n",
      "meta information in news: {'unique': True, 'topic': 'news', 'post_time': '2023-01-27 14:01:47+00:00', 'hash': 8126247893247634545}\n",
      "unique indicates whether the news is unique relative to other news\n",
      "post_time -- is the time when this news was published in our API\n",
      "hash -- you can compare different news on hash. Very useful while using API endpoint instead of websocket to validate -- is obtained data new in your application\n",
      "time of posting in our API: 2023-01-27 14:01:47+00:00 | 2023-01-27 13:59:57+00:00 | 2023-01-27 13:59:28+00:00 | 2023-01-27 13:58:42+00:00 | 2023-01-27 13:55:52+00:00\n",
      "all time in our data can be decoded with format=%Y-%m-%d %H:%M:%S%z\n",
      "============\n",
      "describing data field\n",
      "data field contains supported languages: dict_keys(['en', 'ru'])\n",
      "there are three fields that differs on languages: header, subheader, summary (generated summarization of the text)\n",
      "en fields:\n",
      "header: The market is inclined to profit-taking after a significant increase in stocks\n",
      "subheader: Russian investors continue to implement a strategy of selling overbought securities and buying heavily oversold assets\n",
      "summary: The Russian stock market started the week with growth. The MICEX index rose by 0.3% to 1,470 points, the RTS index — by 0.2% to 1,466 points.\n",
      "ru fields:\n",
      "header: Рынок склоняется к фиксации прибыли после значимого роста акций\n",
      "subheader: Российские инвесторы продолжают реализовывать стратегию продаж перекупленных бумаг и покупок сильно перепроданных активов\n",
      "summary: Российский фондовый рынок начал неделю ростом. Индекс ММВБ вырос на 0,3%, до 1470 пунктов, индекс РТС — на 0,2%, до 1466 пунктов.\n",
      "============\n",
      "It is reasonable to ask - why send so much duplicate data in ru and en fields?\n",
      "Our API is developing, and we do not exclude the possibility of adapting the remaining fields. But at the moment everything is as it is. Therefore, we strongly recommend using the appropriate key field for working with Russian/English languages.\n",
      "Other fields we will consider only for en language. There are next keys:\n",
      "dict_keys(['header', 'subheader', 'content', 'link', 'date', 'domain', 'article_label', 'source_lang', 'is_breaking_news', 'hashtags_list', 'fields_tickers', 'summary', 'sentiment', 'article_type', 'blockwords', 'similarity'])\n",
      "content -- is the body of the article. header + subheader + content form a full article\n",
      "url (link): https://www.finam.ru/publications/item/rynok-sklonyaetsya-k-fiksatsii-pribyli-posle-znachimogo-rosta-aktsiy-20230127-1645/\n",
      "date -- date of publish received from article html: 2023-01-27 13:45:00+00:00; It differs from meta-post time for the next reasons: 1) there are a lot of bugs on the article resources, that posts a news with incorrect datetime; 2) there are processing time of our service. Our common delay is about 30 seconds from the time, when news was really published. Also, it can be a problem with availability of the resources to our scrappers, and we often upgrade it. So, this is bad idea to see on this time while you do a processing. Sufficiently better to use meta-post_time\n",
      "domain -- is the domain of news resource: www.finam.ru\n",
      "article label -- {'label': 'news', 'score': 0.9973}. key label can take the following values: news, overview, statistics, undefined (cannot be exactly assigned to one of the classes); score -- model prediction score for this class\n",
      "source lang -- source language of the article: ru\n",
      "is_breaking_news -- check, is this news breaking, or it`s date of published on the resource far away from current date: True\n",
      "hashtags_list -- is the list of hashtags. On the EN crypto resources first hashtag will be #Crypto. On all russian resources first hashtag will be #Russian. And other hashtags selected from a well-defined available hashtags table. Hahtags: ['#Russian', '#Price']\n",
      "fields_tickers -- is the market fields and tickers that are in the news. Fields can be: crypto, resources, fx, american, russian, token_sale. Tickers are the stocks or cryptocurrencies from the given area, which are discussed in the news. fields_tickers: {'fx': ['USDJPY', 'USDRUB'], 'resources': ['BRENT', 'WTI'], 'russian': ['GLTR', 'POLY', 'TATN', 'TATNP', 'RUAL'], 'american': ['INTC']}\n",
      "sentiment -- is the sentiment of the news. Can be positive, negative or neutral: neutral\n",
      "article_type -- type of the news. Can be business, sci_tech, world, sports. There are really low part of sports news in our data, but rarely it comes. article_types: business\n",
      "blockwords -- these are mainly political words from a certain prohibited list that are contained in the news, and on the basis of which it is possible to decide (appropriate) whether the news is suitable for work as with financial news. blockwords: {'appropriate': True, 'blockwords': []}\n",
      "similarity -- is the semantic search result over last N hours of received news. This field contain of list of most similar news. By default, in our system you receive only one similar news. May be later we will add more similar news in this field. It can be useful for building news graph dependencies. There are the next fields: is news unique: True and what`s the score: 0.4752337917992841; field `record` represents data-EN field in similar article (without similarity field)\n"
     ]
    }
   ],
   "source": [
    "last_news = res_5_news[0]\n",
    "print(\"common information and meta\")\n",
    "print(\"len of data:\", len(res_5_news))\n",
    "print(\"single news contain the next fields:\", last_news.keys())\n",
    "print(\"meta information in news:\", last_news[\"meta\"])\n",
    "print(\"unique indicates whether the news is unique relative to other news\")\n",
    "print(\"post_time -- is the time when this news was published in our API\")\n",
    "print(\"hash -- you can compare different news on hash. Very useful while using API endpoint instead of websocket to validate -- is obtained data new in your application\")\n",
    "print(\"time of posting in our API:\", \" | \".join([el[\"meta\"][\"post_time\"] for el in res_5_news]))\n",
    "print(\"all time in our data can be decoded with format=%Y-%m-%d %H:%M:%S%z\")\n",
    "print(\"============\")\n",
    "print(\"describing data field\")\n",
    "print(\"data field contains supported languages:\", last_news[\"data\"].keys())\n",
    "print(\"there are three fields that differs on languages: header, subheader, summary (generated summarization of the text)\")\n",
    "print(f'en fields:\\nheader: {last_news[\"data\"][\"en\"][\"header\"]}\\nsubheader: {last_news[\"data\"][\"en\"][\"subheader\"]}\\nsummary: {last_news[\"data\"][\"en\"][\"summary\"]}')\n",
    "print(f'ru fields:\\nheader: {last_news[\"data\"][\"ru\"][\"header\"]}\\nsubheader: {last_news[\"data\"][\"ru\"][\"subheader\"]}\\nsummary: {last_news[\"data\"][\"ru\"][\"summary\"]}')\n",
    "print(\"============\")\n",
    "print(\"It is reasonable to ask - why send so much duplicate data in ru and en fields?\")\n",
    "print(\"Our API is developing, and we do not exclude the possibility of adapting the remaining fields. But at the moment everything is as it is. Therefore, we strongly recommend using the appropriate key field for working with Russian/English languages.\")\n",
    "print(\"Other fields we will consider only for en language. There are next keys:\")\n",
    "print(last_news[\"data\"][\"en\"].keys())\n",
    "print(\"content -- is the body of the article. header + subheader + content form a full article\")\n",
    "print(\"url (link):\", last_news[\"data\"][\"en\"][\"link\"])\n",
    "print(f'date -- date of publish received from article html: {last_news[\"data\"][\"en\"][\"date\"]}; It differs from meta-post time for the next reasons: 1) there are a lot of bugs on the article resources, that posts a news with incorrect datetime; 2) there are processing time of our service. Our common delay is about 30 seconds from the time, when news was really published. Also, it can be a problem with availability of the resources to our scrappers, and we often upgrade it. So, this is bad idea to see on this time while you do a processing. Sufficiently better to use meta-post_time')\n",
    "print(\"domain -- is the domain of news resource:\", last_news[\"data\"][\"en\"][\"domain\"])\n",
    "print(f'article label -- {last_news[\"data\"][\"en\"][\"article_label\"]}. key label can take the following values: news, overview, statistics, undefined (cannot be exactly assigned to one of the classes); score -- model prediction score for this class')\n",
    "print(f'source lang -- source language of the article: {last_news[\"data\"][\"en\"][\"source_lang\"]}')\n",
    "print(f'is_breaking_news -- check, is this news breaking, or it`s date of published on the resource far away from current date: {last_news[\"data\"][\"en\"][\"is_breaking_news\"]}')\n",
    "print(f'hashtags_list -- is the list of hashtags. On the EN crypto resources first hashtag will be #Crypto. On all russian resources first hashtag will be #Russian. And other hashtags selected from a well-defined available hashtags table. Hahtags: {last_news[\"data\"][\"en\"][\"hashtags_list\"]}')\n",
    "print(f'fields_tickers -- is the market fields and tickers that are in the news. Fields can be: crypto, resources, fx, american, russian, token_sale. Tickers are the stocks or cryptocurrencies from the given area, which are discussed in the news. fields_tickers: {last_news[\"data\"][\"en\"][\"fields_tickers\"]}')\n",
    "print(f'sentiment -- is the sentiment of the news. Can be positive, negative or neutral: {last_news[\"data\"][\"en\"][\"sentiment\"]}')\n",
    "print(f'article_type -- type of the news. Can be business, sci_tech, world, sports. There are really low part of sports news in our data, but rarely it comes. article_types: {last_news[\"data\"][\"en\"][\"article_type\"]}')\n",
    "print(f'blockwords -- these are mainly political words from a certain prohibited list that are contained in the news, and on the basis of which it is possible to decide (appropriate) whether the news is suitable for work as with financial news. blockwords: {last_news[\"data\"][\"en\"][\"blockwords\"]}')\n",
    "print(f'similarity -- is the semantic search result over last N hours of received news. This field contain of list of most similar news. By default, in our system you receive only one similar news. May be later we will add more similar news in this field. It can be useful for building news graph dependencies. There are the next fields: is news unique: {last_news[\"data\"][\"en\"][\"similarity\"][0][\"unique\"]} and what`s the score: {last_news[\"data\"][\"en\"][\"similarity\"][0][\"score\"]}; field `record` represents data-EN field in similar article (without similarity field)')\n"
   ],
   "metadata": {
    "collapsed": false
   }
  },
  {
   "cell_type": "markdown",
   "source": [
    "# Get news between time"
   ],
   "metadata": {
    "collapsed": false
   }
  },
  {
   "cell_type": "code",
   "execution_count": 3,
   "outputs": [
    {
     "name": "stdout",
     "output_type": "stream",
     "text": [
      "200\n"
     ]
    }
   ],
   "source": [
    "import requests\n",
    "\n",
    "url = \"https://cryptoinfo.p.rapidapi.com/api/private/news_between_time/rapid_api/news\"\n",
    "\n",
    "querystring = {\n",
    "\t\"time_start\":\"2023-01-20 17:34:58+00:00\",\n",
    "\t\"time_finish\":\"2023-01-21 19:34:58+00:00\"\n",
    "}\n",
    "\n",
    "headers = {\n",
    "\t\"Content-Type\": \"application/json\",\n",
    "\t\"X-RapidAPI-Key\": X_RAPIDAPI_KEY,\n",
    "\t\"X-RapidAPI-Host\": \"cryptoinfo.p.rapidapi.com\"\n",
    "}\n",
    "\n",
    "response = requests.request(\"GET\", url, headers=headers, params=querystring)\n",
    "\n",
    "print(response.status_code)"
   ],
   "metadata": {
    "collapsed": false
   }
  },
  {
   "cell_type": "code",
   "execution_count": 4,
   "outputs": [],
   "source": [
    "res_btw = json.loads(response.text)"
   ],
   "metadata": {
    "collapsed": false
   }
  },
  {
   "cell_type": "code",
   "execution_count": 9,
   "outputs": [
    {
     "name": "stdout",
     "output_type": "stream",
     "text": [
      "length of result data: 302\n",
      "post time of first and the last news: 2023-01-21 17:34:11+00:00 2023-01-20 17:35:09+00:00\n",
      "data retrieval order: from new to old\n",
      "The newest news time less on 2 hours than finish time due to maximum time delta between time_start and time_finish is 24 hours\n",
      "each news has format as was described above\n"
     ]
    }
   ],
   "source": [
    "print(\"length of result data:\", len(res_btw))\n",
    "print(\"post time of first and the last news:\", res_btw[0][\"meta\"][\"post_time\"], res_btw[-1][\"meta\"][\"post_time\"])\n",
    "print(\"data retrieval order: from new to old\")\n",
    "print(\"The newest news time less on 2 hours than finish time due to maximum time delta between time_start and time_finish is 24 hours\")\n",
    "print(\"each news has format as was described above\")"
   ],
   "metadata": {
    "collapsed": false
   }
  }
 ],
 "metadata": {
  "kernelspec": {
   "display_name": "Python 3",
   "language": "python",
   "name": "python3"
  },
  "language_info": {
   "codemirror_mode": {
    "name": "ipython",
    "version": 2
   },
   "file_extension": ".py",
   "mimetype": "text/x-python",
   "name": "python",
   "nbconvert_exporter": "python",
   "pygments_lexer": "ipython2",
   "version": "2.7.6"
  }
 },
 "nbformat": 4,
 "nbformat_minor": 0
}
