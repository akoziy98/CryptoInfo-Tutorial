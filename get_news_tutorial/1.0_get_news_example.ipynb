{
 "cells": [
  {
   "cell_type": "code",
   "execution_count": 12,
   "outputs": [],
   "source": [
    "import os\n",
    "import requests\n",
    "import json\n",
    "\n",
    "X_RAPIDAPI_KEY = os.environ.get(\"X_RAPIDAPI_KEY\")"
   ],
   "metadata": {
    "collapsed": false
   }
  },
  {
   "cell_type": "markdown",
   "source": [
    "# Get last 5 news"
   ],
   "metadata": {
    "collapsed": false
   }
  },
  {
   "cell_type": "code",
   "execution_count": 13,
   "outputs": [
    {
     "name": "stdout",
     "output_type": "stream",
     "text": [
      "200\n"
     ]
    }
   ],
   "source": [
    "url = \"https://cryptoinfo.p.rapidapi.com/api/private/latest_news/news\"\n",
    "\n",
    "headers = {\n",
    "\t\"Content-Type\": \"application/json\",\n",
    "\t\"X-RapidAPI-Key\": X_RAPIDAPI_KEY,\n",
    "\t\"X-RapidAPI-Host\": \"cryptoinfo.p.rapidapi.com\"\n",
    "}\n",
    "\n",
    "response = requests.request(\"GET\", url, headers=headers)\n",
    "print(response.status_code)"
   ],
   "metadata": {
    "collapsed": false
   }
  },
  {
   "cell_type": "code",
   "execution_count": 14,
   "outputs": [],
   "source": [
    "res_5_news = json.loads(response.text)"
   ],
   "metadata": {
    "collapsed": false
   }
  },
  {
   "cell_type": "code",
   "execution_count": 18,
   "outputs": [
    {
     "data": {
      "text/plain": "{'unique': True,\n 'topic': 'news',\n 'post_time': '2023-01-31 08:35:04+00:00',\n 'hash': 8797285867395575649}"
     },
     "execution_count": 18,
     "metadata": {},
     "output_type": "execute_result"
    }
   ],
   "source": [
    "res_5_news[1][\"meta\"]"
   ],
   "metadata": {
    "collapsed": false
   }
  },
  {
   "cell_type": "code",
   "execution_count": 19,
   "outputs": [
    {
     "name": "stdout",
     "output_type": "stream",
     "text": [
      "Common information and meta\n",
      "Length of data: 5\n",
      "Single news containing the next fields: dict_keys(['meta', 'data'])\n",
      "Meta information in news: {'unique': True, 'topic': 'news', 'post_time': '2023-01-31 08:35:04+00:00', 'hash': 8797285867395575649}\n",
      "unique -- indicates whether the news is unique relative to others\n",
      "post_time -- is the time when this news was published in our API\n",
      "hash -- you can compare different news on hash. Very useful while using API endpoint instead of websocket to validate -- if the obtained data is new in your application\n",
      "Time of posting in our API: 2023-01-31 08:35:54+00:00 | 2023-01-31 08:35:04+00:00 | 2023-01-31 08:34:30+00:00 | 2023-01-31 08:33:35+00:00 | 2023-01-31 08:33:24+00:00\n",
      "All time in our data can be decoded with format=%Y-%m-%d %H:%M:%S%z\n",
      "============\n",
      "Describing data field\n",
      "Data field contains supported languages: dict_keys(['en', 'ru'])\n",
      "There are three fields that differ on languages: header, subheader, summary (generated summarization of the text)\n",
      "en fields:\n",
      "header: NFT Marketplace SudoSwap Airdrops Tokens to Liquidity Providers and 0xmon Holders\n",
      "subheader: SUDO holders can vote on on-chain governance proposals, and the tokens are initially non-transferrable.\n",
      "summary: SUDO holders can vote on on-chain governance proposals, and the tokens are initially non-transferrable. Eligible for the airdrop were early liquidity providers on SudoSwap as well as holders of 0xmon NFTs.\n",
      "ru fields:\n",
      "header: торговая площадка NFT sudoswap предоставляет токены airdrop поставщикам ликвидности и держателям 0xmon\n",
      "subheader: держатели sudo могут голосовать за предложения по управлению on-chain, и токены изначально не подлежат передаче.\n",
      "summary: держатели sudo могут голосовать за предложения по управлению on-chain, и токены изначально не подлежат передаче. право на airdrop имели ранние поставщики ликвидности на sudoswap, а также держатели 0xmon nft.\n",
      "============\n",
      "It is reasonable to ask - why send so much duplicated data in ru and en fields?\n",
      "Our API is developing, and we do not exclude the possibility of adapting the remaining fields. But at the moment everything is as it is. Therefore, we strongly recommend using the appropriate key field for working with Russian/English languages.\n",
      "Other fields we will consider only for en language. There are next keys:\n",
      "dict_keys(['header', 'subheader', 'content', 'link', 'date', 'domain', 'article_label', 'source_lang', 'is_breaking_news', 'hashtags_list', 'fields_tickers', 'summary', 'sentiment', 'article_type', 'blockwords', 'similarity'])\n",
      "content -- is the body of the article. header + subheader + content form a full article\n",
      "url (link): https://www.coindesk.com/markets/2023/01/31/nft-marketplace-sudoswap-airdrops-tokens-to-liquidity-providers-and-0xmon-holders/?utm_medium=referral&utm_source=rss&utm_campaign=headlines\n",
      "date -- date of publish received from article html: 2023-01-31 08:25:04+00:00; It differs from meta-post time for the next reasons: 1) there are a lot of bugs on the article resources, that posts a news with incorrect datetime; 2) there are processing time of our service. Our common delay is about 30 seconds from the time, when news was actually published. Also, it can be a problem with availability of the resources to our scrappers, and we often upgrade it. So, this is bad idea to look at this time while you do a processing. Much better is to use meta-post_time\n",
      "domain -- is the domain of news resource: www.coindesk.com\n",
      "article label -- {'label': 'undefined', 'score': 0.0}. key label can take the following values: news, overview, statistics, undefined (cannot be exactly assigned to one of the classes); score -- model prediction score for this class\n",
      "source lang -- source language of the article: en\n",
      "is_breaking_news -- check, if the news belongs to the breaking news, or it`s date of publishing on the resource is distant from the current date: True\n",
      "hashtags_list -- is the list of hashtags. On the EN crypto resources first hashtag will be #Crypto. On all russian resources first hashtag will be #Russian. And other hashtags selected from a well-defined hashtags table. Hahtags: ['#Crypto', '#ETH', '#Airdrop', '#Million']\n",
      "fields_tickers -- is the market fields and tickers that are in the news. Fields can be: crypto, resources, fx, american, russian, token_sale. Tickers are the stocks or cryptocurrencies from the given area, which are discussed in the news. fields_tickers: {'crypto': ['ETH']}\n",
      "sentiment -- is the sentiment of the news. Can be positive, negative or neutral: positive\n",
      "article_type -- type of the news. Can be business, sci_tech, world, sports. There are really few sport news in our data, but sometimes it happens. article_types: sci_tech\n",
      "blockwords -- these are mainly political words from a certain prohibited list that are contained in the news. On that basis is decided whether the news is belonging to the financial news-field. blockwords: {'appropriate': True, 'blockwords': []}\n",
      "similarity -- is the semantic search result over last N hours of received news. This field contains list of most similar news. By default, you are receiving only one unique news and no similar news. Possibly, we will add more similar news in this field. It can be useful for building news graph dependencies. There are the next fields: is news unique: True and what`s the score: 0.12002306545576251; field `record` represents data-EN field in similar article (without similarity field)\n"
     ]
    }
   ],
   "source": [
    "last_news = res_5_news[1]\n",
    "print(\"Common information and meta\")\n",
    "print(\"Length of data:\", len(res_5_news))\n",
    "print(\"Single news containing the next fields:\", last_news.keys())\n",
    "print(\"Meta information in news:\", last_news[\"meta\"])\n",
    "print(\"unique -- indicates whether the news is unique relative to others\")\n",
    "print(\"post_time -- is the time when this news was published in our API\")\n",
    "print(\"hash -- you can compare different news on hash. Very useful while using API endpoint instead of websocket to validate -- if the obtained data is new in your application\")\n",
    "print(\"Time of posting in our API:\", \" | \".join([el[\"meta\"][\"post_time\"] for el in res_5_news]))\n",
    "print(\"All time in our data can be decoded with format=%Y-%m-%d %H:%M:%S%z\")\n",
    "print(\"============\")\n",
    "print(\"Describing data field\")\n",
    "print(\"Data field contains supported languages:\", last_news[\"data\"].keys())\n",
    "print(\"There are three fields that differ on languages: header, subheader, summary (generated summarization of the text)\")\n",
    "print(f'en fields:\\nheader: {last_news[\"data\"][\"en\"][\"header\"]}\\nsubheader: {last_news[\"data\"][\"en\"][\"subheader\"]}\\nsummary: {last_news[\"data\"][\"en\"][\"summary\"]}')\n",
    "print(f'ru fields:\\nheader: {last_news[\"data\"][\"ru\"][\"header\"]}\\nsubheader: {last_news[\"data\"][\"ru\"][\"subheader\"]}\\nsummary: {last_news[\"data\"][\"ru\"][\"summary\"]}')\n",
    "print(\"============\")\n",
    "print(\"It is reasonable to ask - why send so much duplicated data in ru and en fields?\")\n",
    "print(\"Our API is developing, and we do not exclude the possibility of adapting the remaining fields. But at the moment everything is as it is. Therefore, we strongly recommend using the appropriate key field for working with Russian/English languages.\")\n",
    "print(\"Other fields we will consider only for en language. There are next keys:\")\n",
    "print(last_news[\"data\"][\"en\"].keys())\n",
    "print(\"content -- is the body of the article. header + subheader + content form a full article\")\n",
    "print(\"url (link):\", last_news[\"data\"][\"en\"][\"link\"])\n",
    "print(f'date -- date of publish received from article html: {last_news[\"data\"][\"en\"][\"date\"]}; It differs from meta-post time for the next reasons: 1) there are a lot of bugs on the article resources, that posts a news with incorrect datetime; 2) there are processing time of our service. Our common delay is about 30 seconds from the time, when news was actually published. Also, it can be a problem with availability of the resources to our scrappers, and we often upgrade it. So, this is bad idea to look at this time while you do a processing. Much better is to use meta-post_time')\n",
    "print(\"domain -- is the domain of news resource:\", last_news[\"data\"][\"en\"][\"domain\"])\n",
    "print(f'article label -- {last_news[\"data\"][\"en\"][\"article_label\"]}. key label can take the following values: news, overview, statistics, undefined (cannot be exactly assigned to one of the classes); score -- model prediction score for this class')\n",
    "print(f'source lang -- source language of the article: {last_news[\"data\"][\"en\"][\"source_lang\"]}')\n",
    "print(f'is_breaking_news -- check, if the news belongs to the breaking news, or it`s date of publishing on the resource is distant from the current date: {last_news[\"data\"][\"en\"][\"is_breaking_news\"]}')\n",
    "print(f'hashtags_list -- is the list of hashtags. On the EN crypto resources first hashtag will be #Crypto. On all russian resources first hashtag will be #Russian. And other hashtags selected from a well-defined hashtags table. Hahtags: {last_news[\"data\"][\"en\"][\"hashtags_list\"]}')\n",
    "print(f'fields_tickers -- is the market fields and tickers that are in the news. Fields can be: crypto, resources, fx, american, russian, token_sale. Tickers are the stocks or cryptocurrencies from the given area, which are discussed in the news. fields_tickers: {last_news[\"data\"][\"en\"][\"fields_tickers\"]}')\n",
    "print(f'sentiment -- is the sentiment of the news. Can be positive, negative or neutral: {last_news[\"data\"][\"en\"][\"sentiment\"]}')\n",
    "print(f'article_type -- type of the news. Can be business, sci_tech, world, sports. There are really few sport news in our data, but sometimes it happens. article_types: {last_news[\"data\"][\"en\"][\"article_type\"]}')\n",
    "print(f'blockwords -- these are mainly political words from a certain prohibited list that are contained in the news. On that basis is decided whether the news is belonging to the financial news-field. blockwords: {last_news[\"data\"][\"en\"][\"blockwords\"]}')\n",
    "print(f'similarity -- is the semantic search result over last N hours of received news. This field contains list of most similar news. By default, you are receiving only one unique news and no similar news. Possibly, we will add more similar news in this field. It can be useful for building news graph dependencies. There are the next fields: is news unique: {last_news[\"data\"][\"en\"][\"similarity\"][0][\"unique\"]} and what`s the score: {last_news[\"data\"][\"en\"][\"similarity\"][0][\"score\"]}; field `record` represents data-EN field in similar article (without similarity field)')\n"
   ],
   "metadata": {
    "collapsed": false
   }
  },
  {
   "cell_type": "markdown",
   "source": [
    "# Get news between time"
   ],
   "metadata": {
    "collapsed": false
   }
  },
  {
   "cell_type": "code",
   "execution_count": 9,
   "outputs": [
    {
     "name": "stdout",
     "output_type": "stream",
     "text": [
      "200\n"
     ]
    }
   ],
   "source": [
    "import requests\n",
    "\n",
    "url = \"https://cryptoinfo.p.rapidapi.com/api/private/news_between_time/rapid_api/news\"\n",
    "\n",
    "querystring = {\n",
    "\t\"time_start\":\"2023-01-20 17:34:58+00:00\",\n",
    "\t\"time_finish\":\"2023-01-21 19:34:58+00:00\"\n",
    "}\n",
    "\n",
    "headers = {\n",
    "\t\"Content-Type\": \"application/json\",\n",
    "\t\"X-RapidAPI-Key\": X_RAPIDAPI_KEY,\n",
    "\t\"X-RapidAPI-Host\": \"cryptoinfo.p.rapidapi.com\"\n",
    "}\n",
    "\n",
    "response = requests.request(\"GET\", url, headers=headers, params=querystring)\n",
    "\n",
    "print(response.status_code)"
   ],
   "metadata": {
    "collapsed": false
   }
  },
  {
   "cell_type": "code",
   "execution_count": 10,
   "outputs": [],
   "source": [
    "res_btw = json.loads(response.text)"
   ],
   "metadata": {
    "collapsed": false
   }
  },
  {
   "cell_type": "code",
   "execution_count": 11,
   "outputs": [
    {
     "name": "stdout",
     "output_type": "stream",
     "text": [
      "Request overview\n",
      "Time start and time finish should be in format: %Y-%m-%d %H:%M:%S%z\n",
      "You can set time range between time_start and time_finish and set it to be longer than 24 hours, but retrieved data will contain data for time_start -> time_start + 24h\n"
     ]
    }
   ],
   "source": [
    "print(\"Request overview\")\n",
    "print(\"Time start and time finish should be in format: %Y-%m-%d %H:%M:%S%z\")\n",
    "print(\"You can set time range between time_start and time_finish and set it to be longer than 24 hours, but retrieved data will contain data for time_start -> time_start + 24h\")"
   ],
   "metadata": {
    "collapsed": false
   }
  },
  {
   "cell_type": "code",
   "execution_count": 13,
   "outputs": [
    {
     "name": "stdout",
     "output_type": "stream",
     "text": [
      "Response overview\n",
      "Length of result data: 302\n",
      "Post time of first and the last news: 2023-01-21 17:34:11+00:00 2023-01-20 17:35:09+00:00\n",
      "Data retrieval order: from new to old\n",
      "Iт this example, the last news has publish time two hours earlier than finish time. This is because the maximal delta between the start time and finish time cannot be larger than 24 hours.\n",
      "Each news has format as was described above\n"
     ]
    }
   ],
   "source": [
    "print(\"Response overview\")\n",
    "print(\"Length of result data:\", len(res_btw))\n",
    "print(\"Post time of first and the last news:\", res_btw[0][\"meta\"][\"post_time\"], res_btw[-1][\"meta\"][\"post_time\"])\n",
    "print(\"Data retrieval order: from new to old\")\n",
    "print(\"Iт this example, the last news has publish time two hours earlier than finish time. This is because the maximal delta between the start time and finish time cannot be larger than 24 hours.\")\n",
    "print(\"Each news has format as was described above\")"
   ],
   "metadata": {
    "collapsed": false
   }
  }
 ],
 "metadata": {
  "kernelspec": {
   "display_name": "Python 3",
   "language": "python",
   "name": "python3"
  },
  "language_info": {
   "codemirror_mode": {
    "name": "ipython",
    "version": 2
   },
   "file_extension": ".py",
   "mimetype": "text/x-python",
   "name": "python",
   "nbconvert_exporter": "python",
   "pygments_lexer": "ipython2",
   "version": "2.7.6"
  }
 },
 "nbformat": 4,
 "nbformat_minor": 0
}
